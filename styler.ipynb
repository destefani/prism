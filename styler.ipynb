{
 "cells": [
  {
   "cell_type": "code",
   "execution_count": 7,
   "metadata": {},
   "outputs": [],
   "source": [
    "from PIL import Image\n",
    "from style_transfer.learn import StyleTransfer\n",
    "\n",
    "style_transfer = StyleTransfer(\n",
    "    lr=1,\n",
    "    content_weight=1,\n",
    "    style_weight=1000,\n",
    "    content_weights=\"{'relu_4_2':1}\",\n",
    "    style_weights=(\"{'relu_1_1':\"\n",
    "                   \"1,'relu_2_1':1,'relu_3_1':1,'relu_4_1':1,'relu_5_1':1}\"),\n",
    "    avg_pool=False,\n",
    "    feature_norm=True,\n",
    "    weights='original',\n",
    "    preserve_color='style',\n",
    "    device='auto',\n",
    "    use_amp=True,\n",
    "    adam=True,\n",
    "    optim_cpu=False,\n",
    "    logging=50\n",
    "\n",
    ")"
   ]
  },
  {
   "cell_type": "code",
   "execution_count": 9,
   "metadata": {},
   "outputs": [],
   "source": [
    "original_image = 'data/base_vulvas/vulva 1.png'\n",
    "style_image = 'data/style_images/image_1.jpeg'\n",
    "save_to = 'data/processed/test_3.png'\n",
    "\n",
    "artwork = style_transfer(\n",
    "    Image.open(original_image),\n",
    "    Image.open(style_image),\n",
    "    area=1024,\n",
    "    iter=100,\n",
    "    )\n",
    "artwork.save(\n",
    "    save_to,\n",
    "    quality=95,\n",
    "    )"
   ]
  },
  {
   "cell_type": "code",
   "execution_count": null,
   "metadata": {},
   "outputs": [],
   "source": []
  }
 ],
 "metadata": {
  "kernelspec": {
   "display_name": "Python 3.8.13 ('prism')",
   "language": "python",
   "name": "python3"
  },
  "language_info": {
   "codemirror_mode": {
    "name": "ipython",
    "version": 3
   },
   "file_extension": ".py",
   "mimetype": "text/x-python",
   "name": "python",
   "nbconvert_exporter": "python",
   "pygments_lexer": "ipython3",
   "version": "3.8.13"
  },
  "orig_nbformat": 4,
  "vscode": {
   "interpreter": {
    "hash": "f25d82208839b2811352d9ee8c2e52c1a93f5090a74a479f3c928591d42960c7"
   }
  }
 },
 "nbformat": 4,
 "nbformat_minor": 2
}
